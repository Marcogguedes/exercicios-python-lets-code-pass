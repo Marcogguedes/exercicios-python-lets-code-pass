{
 "cells": [
  {
   "cell_type": "markdown",
   "metadata": {},
   "source": [
    "## Exercícios Módulo 1 - Python"
   ]
  },
  {
   "cell_type": "markdown",
   "metadata": {},
   "source": [
    "### Primeiro exercício"
   ]
  },
  {
   "cell_type": "markdown",
   "metadata": {},
   "source": [
    "1 Faça um programa que peça um valor monetário e diminua-o em 15%. Seu programa deve imprimir a mensagem \"O novo valor é [valor]\"."
   ]
  },
  {
   "cell_type": "code",
   "execution_count": 1,
   "metadata": {},
   "outputs": [
    {
     "name": "stdout",
     "output_type": "stream",
     "text": [
      "Digite um valor monetário: 3500\n",
      "O novo valor é de 2975.0\n"
     ]
    }
   ],
   "source": [
    "# Solução\n",
    "\n",
    "valor_monetario = float(input('Digite um valor monetário: '))\n",
    "desconto = (100 - 15)/100    # Cálculo do percentual de desconto\n",
    "valor = valor_monetario * desconto    # Cálculo da subtração do  desconto\n",
    "\n",
    "print('O novo valor é de',valor)"
   ]
  },
  {
   "cell_type": "markdown",
   "metadata": {},
   "source": [
    "### Segundo exercício"
   ]
  },
  {
   "cell_type": "markdown",
   "metadata": {},
   "source": [
    "2 Faça um programa que leia a validade das informações:"
   ]
  },
  {
   "cell_type": "markdown",
   "metadata": {},
   "source": [
    "- a. idade: entre 0 e 150:\n",
    "- b. salário: maior do que 0:\n",
    "- c. Sexo: M, F ou Outro:"
   ]
  },
  {
   "cell_type": "markdown",
   "metadata": {},
   "source": [
    "O programa deve imprimir um mensagem de erro para cada informação inválida."
   ]
  },
  {
   "cell_type": "code",
   "execution_count": 2,
   "metadata": {},
   "outputs": [
    {
     "name": "stdout",
     "output_type": "stream",
     "text": [
      "Digite a sua idade: 46\n",
      "Digite o valor do seu salário: 3500\n",
      "Digite M para masculino, F para feminino, ou digiet Outro: M\n"
     ]
    }
   ],
   "source": [
    "# Solução\n",
    "\n",
    "idade = float(input('Digite a sua idade: '))\n",
    "while idade <= 0 or idade >= 150:\n",
    "    idade = int(input('O valor digitado não é válido. Digite sua idade: '))\n",
    "    \n",
    "salario = float(input('Digite o valor do seu salário: '))\n",
    "while salario <= 0:\n",
    "    salario = int(input('O valor digitado não é válido. Digite o seu salário: '))\n",
    "    \n",
    "sexo = input('Digite M para masculino, F para feminino, ou digiet Outro: ')\n",
    "while sexo != 'M' and sexo != 'F' and sexo != 'Outro':\n",
    "    sexo = input('A entrada digitada não é válida. Digite M, F ou Outro')"
   ]
  },
  {
   "cell_type": "markdown",
   "metadata": {},
   "source": [
    "3 Faça um programa para descobrir quem é um assassino de um crime. Para descobrir o assassino, a polícia faz um pequeno questionário com 5 perguntas onde a resposta só pode ser sim ou não:"
   ]
  },
  {
   "cell_type": "markdown",
   "metadata": {},
   "source": [
    "- a. Mora peto da vítima?\n",
    "\n",
    "- b. Já trabalhou com a vítima?\n",
    "\n",
    "- c. Telefonou para a vítima?\n",
    "\n",
    "- d. Esteve no local do crime?\n",
    "\n",
    "- e. Devia para a vítima?\n",
    "\n",
    "Cada resposta sim dá um ponto para o suspeito.\n",
    "\n",
    "A polícia considera que os suspeitos com 5 pontos são os assassinos, com 4 e 3 pontos são cúmprices e 2 pontos são apenas suspeitos, necessitando de outras investigações.\n",
    "\n",
    "Valores iguais ou abaixo de 1 são liberados."
   ]
  },
  {
   "cell_type": "code",
   "execution_count": 3,
   "metadata": {},
   "outputs": [
    {
     "name": "stdout",
     "output_type": "stream",
     "text": [
      "Responda apenas SIM ou Não\n",
      "a. Mora perto da vítima?sim\n",
      "b. Já trabalou com a vítima?sim\n",
      "c. Telefonou para a vítima?sim\n",
      "d. Esteve no local do crime?sim\n",
      "e. Devia para vítima?sim\n",
      "Você é o assassino.\n"
     ]
    }
   ],
   "source": [
    "# Solução\n",
    "print('Responda apenas SIM ou Não')\n",
    "sim = 0\n",
    "\n",
    "questao = input('a. Mora perto da vítima?')\n",
    "if questao == 'SIM' or questao == 'sim':\n",
    "    sim = sim + 1\n",
    "questao = input('b. Já trabalou com a vítima?')\n",
    "if questao == 'SIM' or questao == 'sim':\n",
    "    sim = sim + 1\n",
    "questao = input('c. Telefonou para a vítima?')\n",
    "if questao == 'SIM' or questao == 'sim':\n",
    "    sim = sim + 1\n",
    "questao = input('d. Esteve no local do crime?')\n",
    "if questao == 'SIM' or questao == 'sim':\n",
    "    sim = sim + 1\n",
    "questao = input('e. Devia para vítima?')\n",
    "if questao == 'SIM' or questao == 'sim':\n",
    "    sim = sim + 1\n",
    "    \n",
    "pontos = sim\n",
    "if pontos == 5:\n",
    "    print('Você é o assassino.')\n",
    "elif pontos <= 4 and pontos >= 3:\n",
    "    print('Você é cúmplice.')\n",
    "elif pontos == 2:\n",
    "    print('Você é suspeito, será necessário outras investigações.')\n",
    "elif pontos <=1:\n",
    "    print('Você está liberado.')"
   ]
  },
  {
   "cell_type": "markdown",
   "metadata": {},
   "source": [
    "4 Faça um programa que imprima a tábuada do 9 (de 9 x 1 até 9 x 10) usando loops."
   ]
  },
  {
   "cell_type": "code",
   "execution_count": 4,
   "metadata": {},
   "outputs": [
    {
     "name": "stdout",
     "output_type": "stream",
     "text": [
      "9 x 1 : 9\n",
      "9 x 2 : 18\n",
      "9 x 3 : 27\n",
      "9 x 4 : 36\n",
      "9 x 5 : 45\n",
      "9 x 6 : 54\n",
      "9 x 7 : 63\n",
      "9 x 8 : 72\n",
      "9 x 9 : 81\n",
      "9 x 10 : 90\n"
     ]
    }
   ],
   "source": [
    "# Solução\n",
    "numero = 1\n",
    "tabuada = 9\n",
    "while numero <= 10:\n",
    "    print(tabuada, 'x', numero, ':', tabuada * numero)\n",
    "    numero = numero + 1"
   ]
  },
  {
   "cell_type": "markdown",
   "metadata": {},
   "source": [
    "# FIM"
   ]
  }
 ],
 "metadata": {
  "kernelspec": {
   "display_name": "Python 3",
   "language": "python",
   "name": "python3"
  },
  "language_info": {
   "codemirror_mode": {
    "name": "ipython",
    "version": 3
   },
   "file_extension": ".py",
   "mimetype": "text/x-python",
   "name": "python",
   "nbconvert_exporter": "python",
   "pygments_lexer": "ipython3",
   "version": "3.8.5"
  }
 },
 "nbformat": 4,
 "nbformat_minor": 4
}
